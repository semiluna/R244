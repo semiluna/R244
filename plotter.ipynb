{
 "cells": [
  {
   "cell_type": "code",
   "execution_count": 1,
   "metadata": {},
   "outputs": [],
   "source": [
    "pyg_sage_512 = {\n",
    "    1: 4758,\n",
    "    2: 2818,\n",
    "    4: 4306,\n",
    "}\n",
    "pyg_gat_512 = {\n",
    "    1: 3270,\n",
    "    2: 2624,\n",
    "    4: 3946,\n",
    "}\n",
    "\n",
    "dgl_sage_512 = {\n",
    "    1: 3789,\n",
    "    2: 4369,\n",
    "    4: 5932\n",
    "}\n",
    "\n",
    "dgl_gat_512 = {\n",
    "    1: 3536,\n",
    "    2: 4108,\n",
    "    4: 5976\n",
    "}"
   ]
  },
  {
   "cell_type": "code",
   "execution_count": 7,
   "metadata": {},
   "outputs": [
    {
     "ename": "TypeError",
     "evalue": "unsupported operand type(s) for -: 'list' and 'float'",
     "output_type": "error",
     "traceback": [
      "\u001b[0;31m---------------------------------------------------------------------------\u001b[0m",
      "\u001b[0;31mTypeError\u001b[0m                                 Traceback (most recent call last)",
      "Cell \u001b[0;32mIn[7], line 3\u001b[0m\n\u001b[1;32m      1\u001b[0m \u001b[39mimport\u001b[39;00m \u001b[39mmatplotlib\u001b[39;00m\u001b[39m.\u001b[39;00m\u001b[39mpyplot\u001b[39;00m \u001b[39mas\u001b[39;00m \u001b[39mplt\u001b[39;00m\n\u001b[0;32m----> 3\u001b[0m plt\u001b[39m.\u001b[39mbar(\u001b[39mlist\u001b[39;49m(pyg_sage_512\u001b[39m.\u001b[39;49mkeys()) \u001b[39m-\u001b[39;49m \u001b[39m0.2\u001b[39;49m, pyg_sage_512\u001b[39m.\u001b[39mvalues())\n\u001b[1;32m      4\u001b[0m plt\u001b[39m.\u001b[39mbar(\u001b[39mlist\u001b[39m(dgl_sage_512\u001b[39m.\u001b[39mkeys()) \u001b[39m+\u001b[39m \u001b[39m0.2\u001b[39m, dgl_sage_512\u001b[39m.\u001b[39mvalues())\n",
      "\u001b[0;31mTypeError\u001b[0m: unsupported operand type(s) for -: 'list' and 'float'"
     ]
    }
   ],
   "source": [
    "import matplotlib.pyplot as plt\n",
    "\n",
    "plt.bar(list(pyg_sage_512.keys()) - 0.2, pyg_sage_512.values())\n",
    "plt.bar(list(dgl_sage_512.keys()) + 0.2, dgl_sage_512.values())"
   ]
  },
  {
   "cell_type": "code",
   "execution_count": 8,
   "metadata": {},
   "outputs": [],
   "source": [
    "pyg_sage = [2138, 1593, 2407]\n",
    "pyg_gat = [1550, 1383, 2211]\n",
    "\n",
    "dgl_sage = [1511, 1786, 2130]\n",
    "dgl_gat = [1504, 1727, 2054]"
   ]
  },
  {
   "cell_type": "code",
   "execution_count": 42,
   "metadata": {},
   "outputs": [],
   "source": [
    "import matplotlib\n",
    "import matplotlib.pyplot as plt\n",
    "import numpy as np\n",
    "\n",
    "plt.clf()\n",
    "matplotlib.use(\"pgf\")\n",
    "matplotlib.rcParams.update({\n",
    "    \"pgf.texsystem\": \"pdflatex\",\n",
    "    'font.family': 'serif',\n",
    "    'text.usetex': True,\n",
    "    'pgf.rcfonts': False,\n",
    "    'font.size': 25,\n",
    "})\n",
    "\n",
    "plt.figure(figsize=(10, 8))\n",
    "plt.bar(np.arange(3) + 0.15, pyg_sage, width=0.3)\n",
    "plt.bar(np.arange(3) - 0.15, dgl_sage, width=0.3)\n",
    "plt.xticks(np.arange(3), [1, 2, 4])\n",
    "plt.ylabel('Runtime (s)')\n",
    "plt.xlabel('GPUs')\n",
    "plt.title('GraphSAGE')\n",
    "plt.legend(['PyG', 'DGL'])\n",
    "plt.savefig('graph-sage-bar')"
   ]
  },
  {
   "cell_type": "code",
   "execution_count": 44,
   "metadata": {},
   "outputs": [],
   "source": [
    "import matplotlib\n",
    "import matplotlib.pyplot as plt\n",
    "import numpy as np\n",
    "\n",
    "plt.clf()\n",
    "matplotlib.use(\"pgf\")\n",
    "matplotlib.rcParams.update({\n",
    "    \"pgf.texsystem\": \"pdflatex\",\n",
    "    'font.family': 'serif',\n",
    "    'text.usetex': True,\n",
    "    'pgf.rcfonts': False,\n",
    "    'font.size': 25,\n",
    "})\n",
    "\n",
    "plt.figure(figsize=(10, 8))\n",
    "plt.bar(np.arange(3) + 0.15, pyg_gat, width=0.3)\n",
    "plt.bar(np.arange(3) - 0.15, dgl_gat, width=0.3)\n",
    "plt.xticks(np.arange(3), [1, 2, 4])\n",
    "plt.ylabel('Runtime (s)')\n",
    "plt.xlabel('GPUs')\n",
    "plt.title('GAT')\n",
    "plt.legend(['PyG', 'DGL'])\n",
    "plt.savefig('gat-bar')"
   ]
  },
  {
   "cell_type": "code",
   "execution_count": null,
   "metadata": {},
   "outputs": [],
   "source": []
  }
 ],
 "metadata": {
  "kernelspec": {
   "display_name": "Python 3.10.9 64-bit",
   "language": "python",
   "name": "python3"
  },
  "language_info": {
   "codemirror_mode": {
    "name": "ipython",
    "version": 3
   },
   "file_extension": ".py",
   "mimetype": "text/x-python",
   "name": "python",
   "nbconvert_exporter": "python",
   "pygments_lexer": "ipython3",
   "version": "3.10.9"
  },
  "orig_nbformat": 4,
  "vscode": {
   "interpreter": {
    "hash": "b0fa6594d8f4cbf19f97940f81e996739fb7646882a419484c72d19e05852a7e"
   }
  }
 },
 "nbformat": 4,
 "nbformat_minor": 2
}
